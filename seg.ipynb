{
 "cells": [
  {
   "cell_type": "code",
   "execution_count": 7,
   "metadata": {},
   "outputs": [
    {
     "name": "stdout",
     "output_type": "stream",
     "text": [
      "Requirement already up-to-date: jieba in /home/nbuser/anaconda3_501/lib/python3.6/site-packages (0.39)\r\n"
     ]
    }
   ],
   "source": [
    "!pip install -U jieba"
   ]
  },
  {
   "cell_type": "code",
   "execution_count": 20,
   "metadata": {},
   "outputs": [
    {
     "name": "stdout",
     "output_type": "stream",
     "text": [
      "seg.ipynb\r\n",
      "seg_阴阳学堂外编.txt\r\n",
      "宁.txt\r\n",
      "虔门.txt\r\n",
      "阴阳学堂.txt\r\n",
      "阴阳学堂外编.txt\r\n",
      "阴阳学堂-夺碑之役.txt\r\n"
     ]
    }
   ],
   "source": [
    "!ls -1"
   ]
  },
  {
   "cell_type": "code",
   "execution_count": 6,
   "metadata": {},
   "outputs": [],
   "source": [
    "import json,re,os\n",
    "import jieba.posseg as pseg\n",
    "import jieba\n",
    "jieba.enable_parallel(2)"
   ]
  },
  {
   "cell_type": "markdown",
   "metadata": {},
   "source": [
    "## 批量分词"
   ]
  },
  {
   "cell_type": "code",
   "execution_count": 5,
   "metadata": {},
   "outputs": [],
   "source": [
    "def seg(filename):\n",
    "    with open(\"./txt/\"+filename, 'r') as f:\n",
    "        text=f.read()\n",
    "        \n",
    "    words = pseg.cut(text, HMM=False)\n",
    "    tags=[]\n",
    "    for word, flag in words:\n",
    "        if flag=='x' and word not in \",.，。\": continue\n",
    "        tags.append([word, flag, \"O\"])\n",
    "    print(len(tags))\n",
    "    \n",
    "    with open(\"./json/seg_sym/seg_sym_\"+filename[:-3]+\"json\",'w+') as f:\n",
    "        json.dump(tags, f,ensure_ascii=False)"
   ]
  },
  {
   "cell_type": "code",
   "execution_count": 7,
   "metadata": {},
   "outputs": [
    {
     "name": "stdout",
     "output_type": "stream",
     "text": [
      "19316\n",
      "47627\n",
      "21924\n",
      "8582\n"
     ]
    }
   ],
   "source": [
    "os.system('rm ./json/seg_sym/seg_sym_*')\n",
    "f_list=[\n",
    "    \"宁.txt\",\n",
    "    \"虔门.txt\",\n",
    "    \"阴阳学堂-夺碑之役.txt\",\n",
    "    \"阴阳学堂外编.txt\"]\n",
    "for file in f_list: \n",
    "    seg(file)"
   ]
  },
  {
   "cell_type": "code",
   "execution_count": 4,
   "metadata": {},
   "outputs": [
    {
     "data": {
      "text/plain": [
       "<os._wrap_close at 0x7fc70c090748>"
      ]
     },
     "execution_count": 4,
     "metadata": {},
     "output_type": "execute_result"
    }
   ],
   "source": []
  },
  {
   "cell_type": "code",
   "execution_count": null,
   "metadata": {},
   "outputs": [],
   "source": []
  }
 ],
 "metadata": {
  "kernelspec": {
   "display_name": "Python 3.6",
   "language": "python",
   "name": "python36"
  },
  "language_info": {
   "codemirror_mode": {
    "name": "ipython",
    "version": 3
   },
   "file_extension": ".py",
   "mimetype": "text/x-python",
   "name": "python",
   "nbconvert_exporter": "python",
   "pygments_lexer": "ipython3",
   "version": "3.6.3"
  }
 },
 "nbformat": 4,
 "nbformat_minor": 2
}
